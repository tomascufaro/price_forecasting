{
 "cells": [
  {
   "cell_type": "code",
   "execution_count": 5,
   "metadata": {},
   "outputs": [],
   "source": [
    "from typing import Optional\n",
    "from pathlib import Path\n",
    "from datetime import datetime, timedelta\n",
    "\n",
    "import pandas as pd\n",
    "import fire\n",
    "from alpaca.data.historical import StockHistoricalDataClient\n",
    "from alpaca.data.requests import StockBarsRequest\n",
    "from alpaca.data.timeframe import TimeFrame\n",
    "\n",
    "from src.path import DATA_DIR\n",
    "from src.logger import get_console_logger\n",
    "import src.config as cfg\n"
   ]
  },
  {
   "cell_type": "code",
   "execution_count": 8,
   "metadata": {},
   "outputs": [],
   "source": [
    "cfg.APIkeys.alpaca_api_key"
   ]
  },
  {
   "cell_type": "code",
   "execution_count": 90,
   "metadata": {},
   "outputs": [],
   "source": [
    "\n",
    "logger = get_console_logger(name='dataset_generation')\n",
    "\n",
    "# Initialize Alpaca client\n",
    "#client = StockHistoricalDataClient(cfg.APIkeys.alpaca_api_key, cfg.APIkeys.alpaca_secret_key)\n",
    "client = StockHistoricalDataClient(\"PKSQNNG8GVINE9P4BOCI\",  \"G7PZXasCjXqnYJYB9QoSiF5iBYQSscn7zexMsfKx\")\n",
    "def download_ohlc_data_from_alpaca(\n",
    "    symbol: Optional[str] = \"NYSE\",\n",
    "    from_day: Optional[str] = \"2023-01-01\",\n",
    "    to_day: Optional[str] = \"2024-01-01\",\n",
    ") -> Path:\n",
    "    \"\"\"\n",
    "    Downloads historical OHLC data from Alpaca API and saves data to disk\n",
    "    \"\"\"\n",
    "    # create list of days as strings\n",
    "    days = pd.date_range(start=from_day, end=to_day, freq=\"1D\")\n",
    "    \n",
    "    # create empty dataframe\n",
    "    data = pd.DataFrame()\n",
    "\n",
    "    # create download dir folder if it doesn't exist\n",
    "    download_dir = DATA_DIR / 'downloads'\n",
    "    download_dir.mkdir(parents=True, exist_ok=True)\n",
    "    \n",
    "    for day in days:\n",
    "        day_str = day.strftime(\"%Y-%m-%d\")\n",
    "        file_name = download_dir / f'{day_str}.parquet'\n",
    "        if file_name.exists():\n",
    "            logger.info(f'File {file_name} already exists, skipping')\n",
    "            data_one_day = pd.read_parquet(file_name)\n",
    "        else:\n",
    "            logger.info(f'Downloading data for {day_str}')\n",
    "            data_one_day = download_data_for_one_day(symbol, day_str)\n",
    "            data_one_day.to_parquet(file_name, index=False)\n",
    "        \n",
    "        # combine today's file with the rest of the data\n",
    "        data = pd.concat([data, data_one_day], ignore_index=True)\n",
    "\n",
    "    # save data to disk   \n",
    "    output_file = DATA_DIR / f\"ohlc_data.parquet\"\n",
    "    data.to_parquet(output_file, index=False)\n",
    "\n",
    "    return output_file\n",
    "\n",
    "def download_data_for_one_day(symbol: str, day: str) -> pd.DataFrame:\n",
    "    \"\"\"\n",
    "    Downloads one day of data and returns a pandas DataFrame\n",
    "    \"\"\"\n",
    "    # Convert day string to datetime object\n",
    "    start = datetime.strptime(day, \"%Y-%m-%d\")\n",
    "    end = start + timedelta(days=1)\n",
    "\n",
    "    # Request data from Alpaca\n",
    "    request_params = StockBarsRequest(\n",
    "        symbol_or_symbols=[symbol],\n",
    "        timeframe=TimeFrame.Hour,\n",
    "        start=start,\n",
    "        end=end\n",
    "    )\n",
    "    bars = client.get_stock_bars(request_params)\n",
    "    \n",
    "    # Transform bars to pandas DataFrame\n",
    "    data = bars.df.reset_index()\n",
    "    return data[['timestamp', 'low', 'high', 'open', 'close', 'trade_count']].rename(columns={'timestamp':'time', 'trade_count':'volume'})\n"
   ]
  },
  {
   "cell_type": "code",
   "execution_count": 63,
   "metadata": {},
   "outputs": [],
   "source": [
    "days = pd.date_range(start=\"2023-01-01\", end=\"2024-06-01\", freq=\"1D\")"
   ]
  },
  {
   "cell_type": "code",
   "execution_count": 76,
   "metadata": {},
   "outputs": [
    {
     "data": {
      "text/html": [
       "<div>\n",
       "<style scoped>\n",
       "    .dataframe tbody tr th:only-of-type {\n",
       "        vertical-align: middle;\n",
       "    }\n",
       "\n",
       "    .dataframe tbody tr th {\n",
       "        vertical-align: top;\n",
       "    }\n",
       "\n",
       "    .dataframe thead th {\n",
       "        text-align: right;\n",
       "    }\n",
       "</style>\n",
       "<table border=\"1\" class=\"dataframe\">\n",
       "  <thead>\n",
       "    <tr style=\"text-align: right;\">\n",
       "      <th></th>\n",
       "      <th>index</th>\n",
       "    </tr>\n",
       "  </thead>\n",
       "  <tbody>\n",
       "  </tbody>\n",
       "</table>\n",
       "</div>"
      ],
      "text/plain": [
       "Empty DataFrame\n",
       "Columns: [index]\n",
       "Index: []"
      ]
     },
     "execution_count": 76,
     "metadata": {},
     "output_type": "execute_result"
    }
   ],
   "source": [
    "data_one_day"
   ]
  },
  {
   "cell_type": "code",
   "execution_count": null,
   "metadata": {},
   "outputs": [],
   "source": [
    "start = datetime.strptime(day, \"%Y-%m-%d\")\n",
    "end = start + timedelta(days=1)"
   ]
  },
  {
   "cell_type": "code",
   "execution_count": 68,
   "metadata": {},
   "outputs": [],
   "source": [
    "start = datetime.strptime(\"2024-06-01\", \"%Y-%m-%d\")\n",
    "end = start + timedelta(days=1)\n"
   ]
  },
  {
   "cell_type": "code",
   "execution_count": 70,
   "metadata": {},
   "outputs": [
    {
     "data": {
      "text/plain": [
       "'2024-06-01T00:00:00'"
      ]
     },
     "execution_count": 70,
     "metadata": {},
     "output_type": "execute_result"
    }
   ],
   "source": [
    "start.isoformat()"
   ]
  },
  {
   "cell_type": "code",
   "execution_count": 80,
   "metadata": {},
   "outputs": [],
   "source": [
    "data = StockBarsRequest(symbol_or_symbols=[\"AAPL\"],\n",
    "timeframe=TimeFrame.Hour,\n",
    "start=datetime(2022, 7, 1),\n",
    "end=datetime(2022, 10, 1))"
   ]
  },
  {
   "cell_type": "code",
   "execution_count": 82,
   "metadata": {},
   "outputs": [],
   "source": [
    "bars = client.get_stock_bars(data)"
   ]
  },
  {
   "cell_type": "code",
   "execution_count": 88,
   "metadata": {},
   "outputs": [],
   "source": [
    "start = datetime.strptime(\"2023-06-01\", \"%Y-%m-%d\")\n",
    "end = start + timedelta(days=1)\n",
    "\n",
    "# Request data from Alpaca\n",
    "request_params = StockBarsRequest(\n",
    "    symbol_or_symbols=[\"AAPL\"],\n",
    "    timeframe=TimeFrame.Hour,\n",
    "    start=start,\n",
    "    end=end\n",
    ")\n",
    "bars = client.get_stock_bars(request_params)"
   ]
  },
  {
   "cell_type": "code",
   "execution_count": 86,
   "metadata": {},
   "outputs": [
    {
     "data": {
      "text/plain": [
       "datetime.datetime(2024, 6, 1, 0, 0)"
      ]
     },
     "execution_count": 86,
     "metadata": {},
     "output_type": "execute_result"
    }
   ],
   "source": [
    "start"
   ]
  },
  {
   "cell_type": "code",
   "execution_count": 87,
   "metadata": {},
   "outputs": [
    {
     "data": {
      "text/plain": [
       "datetime.datetime(2024, 6, 2, 0, 0)"
      ]
     },
     "execution_count": 87,
     "metadata": {},
     "output_type": "execute_result"
    }
   ],
   "source": [
    "end"
   ]
  },
  {
   "cell_type": "code",
   "execution_count": 89,
   "metadata": {},
   "outputs": [
    {
     "data": {
      "text/plain": [
       "{   'data': {   'AAPL': [   {   'close': 177.95,\n",
       "                                'high': 177.95,\n",
       "                                'low': 177.35,\n",
       "                                'open': 177.8,\n",
       "                                'symbol': 'AAPL',\n",
       "                                'timestamp': datetime.datetime(2023, 6, 1, 8, 0, tzinfo=TzInfo(UTC)),\n",
       "                                'trade_count': 738.0,\n",
       "                                'volume': 27285.0,\n",
       "                                'vwap': 177.625059},\n",
       "                            {   'close': 177.73,\n",
       "                                'high': 177.94,\n",
       "                                'low': 177.56,\n",
       "                                'open': 177.94,\n",
       "                                'symbol': 'AAPL',\n",
       "                                'timestamp': datetime.datetime(2023, 6, 1, 9, 0, tzinfo=TzInfo(UTC)),\n",
       "                                'trade_count': 524.0,\n",
       "                                'volume': 26675.0,\n",
       "                                'vwap': 177.694505},\n",
       "                            {   'close': 177.75,\n",
       "                                'high': 177.93,\n",
       "                                'low': 177.72,\n",
       "                                'open': 177.72,\n",
       "                                'symbol': 'AAPL',\n",
       "                                'timestamp': datetime.datetime(2023, 6, 1, 10, 0, tzinfo=TzInfo(UTC)),\n",
       "                                'trade_count': 354.0,\n",
       "                                'volume': 21571.0,\n",
       "                                'vwap': 177.845066},\n",
       "                            {   'close': 177.83,\n",
       "                                'high': 178.18,\n",
       "                                'low': 177.67,\n",
       "                                'open': 177.76,\n",
       "                                'symbol': 'AAPL',\n",
       "                                'timestamp': datetime.datetime(2023, 6, 1, 11, 0, tzinfo=TzInfo(UTC)),\n",
       "                                'trade_count': 1572.0,\n",
       "                                'volume': 74346.0,\n",
       "                                'vwap': 177.914875},\n",
       "                            {   'close': 177.63,\n",
       "                                'high': 178.18,\n",
       "                                'low': 177.06,\n",
       "                                'open': 177.8403,\n",
       "                                'symbol': 'AAPL',\n",
       "                                'timestamp': datetime.datetime(2023, 6, 1, 12, 0, tzinfo=TzInfo(UTC)),\n",
       "                                'trade_count': 5284.0,\n",
       "                                'volume': 262020.0,\n",
       "                                'vwap': 177.688408},\n",
       "                            {   'close': 177.31,\n",
       "                                'high': 177.96,\n",
       "                                'low': 176.9306,\n",
       "                                'open': 177.6,\n",
       "                                'symbol': 'AAPL',\n",
       "                                'timestamp': datetime.datetime(2023, 6, 1, 13, 0, tzinfo=TzInfo(UTC)),\n",
       "                                'trade_count': 99591.0,\n",
       "                                'volume': 7240843.0,\n",
       "                                'vwap': 177.412673},\n",
       "                            {   'close': 178.95,\n",
       "                                'high': 179.285,\n",
       "                                'low': 177.28,\n",
       "                                'open': 177.32,\n",
       "                                'symbol': 'AAPL',\n",
       "                                'timestamp': datetime.datetime(2023, 6, 1, 14, 0, tzinfo=TzInfo(UTC)),\n",
       "                                'trade_count': 149208.0,\n",
       "                                'volume': 9256687.0,\n",
       "                                'vwap': 178.357825},\n",
       "                            {   'close': 179.58,\n",
       "                                'high': 179.645,\n",
       "                                'low': 178.77,\n",
       "                                'open': 178.96,\n",
       "                                'symbol': 'AAPL',\n",
       "                                'timestamp': datetime.datetime(2023, 6, 1, 15, 0, tzinfo=TzInfo(UTC)),\n",
       "                                'trade_count': 69793.0,\n",
       "                                'volume': 7133040.0,\n",
       "                                'vwap': 179.330455},\n",
       "                            {   'close': 179.9001,\n",
       "                                'high': 180.0,\n",
       "                                'low': 179.58,\n",
       "                                'open': 179.58,\n",
       "                                'symbol': 'AAPL',\n",
       "                                'timestamp': datetime.datetime(2023, 6, 1, 16, 0, tzinfo=TzInfo(UTC)),\n",
       "                                'trade_count': 57691.0,\n",
       "                                'volume': 5859938.0,\n",
       "                                'vwap': 179.852185},\n",
       "                            {   'close': 179.89,\n",
       "                                'high': 180.0,\n",
       "                                'low': 179.465,\n",
       "                                'open': 179.91,\n",
       "                                'symbol': 'AAPL',\n",
       "                                'timestamp': datetime.datetime(2023, 6, 1, 17, 0, tzinfo=TzInfo(UTC)),\n",
       "                                'trade_count': 53247.0,\n",
       "                                'volume': 6066278.0,\n",
       "                                'vwap': 179.769972},\n",
       "                            {   'close': 179.8192,\n",
       "                                'high': 180.12,\n",
       "                                'low': 179.56,\n",
       "                                'open': 179.885,\n",
       "                                'symbol': 'AAPL',\n",
       "                                'timestamp': datetime.datetime(2023, 6, 1, 18, 0, tzinfo=TzInfo(UTC)),\n",
       "                                'trade_count': 67934.0,\n",
       "                                'volume': 7273681.0,\n",
       "                                'vwap': 179.896502},\n",
       "                            {   'close': 180.1,\n",
       "                                'high': 180.12,\n",
       "                                'low': 179.22,\n",
       "                                'open': 179.8191,\n",
       "                                'symbol': 'AAPL',\n",
       "                                'timestamp': datetime.datetime(2023, 6, 1, 19, 0, tzinfo=TzInfo(UTC)),\n",
       "                                'trade_count': 107142.0,\n",
       "                                'volume': 11063630.0,\n",
       "                                'vwap': 179.750615},\n",
       "                            {   'close': 180.4,\n",
       "                                'high': 180.49,\n",
       "                                'low': 180.01,\n",
       "                                'open': 180.1,\n",
       "                                'symbol': 'AAPL',\n",
       "                                'timestamp': datetime.datetime(2023, 6, 1, 20, 0, tzinfo=TzInfo(UTC)),\n",
       "                                'trade_count': 4840.0,\n",
       "                                'volume': 19207046.0,\n",
       "                                'vwap': 180.094173},\n",
       "                            {   'close': 180.49,\n",
       "                                'high': 180.59,\n",
       "                                'low': 180.38,\n",
       "                                'open': 180.3812,\n",
       "                                'symbol': 'AAPL',\n",
       "                                'timestamp': datetime.datetime(2023, 6, 1, 21, 0, tzinfo=TzInfo(UTC)),\n",
       "                                'trade_count': 2307.0,\n",
       "                                'volume': 3231083.0,\n",
       "                                'vwap': 180.10404},\n",
       "                            {   'close': 180.54,\n",
       "                                'high': 180.59,\n",
       "                                'low': 180.44,\n",
       "                                'open': 180.49,\n",
       "                                'symbol': 'AAPL',\n",
       "                                'timestamp': datetime.datetime(2023, 6, 1, 22, 0, tzinfo=TzInfo(UTC)),\n",
       "                                'trade_count': 807.0,\n",
       "                                'volume': 30713.0,\n",
       "                                'vwap': 180.520819},\n",
       "                            {   'close': 180.49,\n",
       "                                'high': 180.68,\n",
       "                                'low': 180.46,\n",
       "                                'open': 180.54,\n",
       "                                'symbol': 'AAPL',\n",
       "                                'timestamp': datetime.datetime(2023, 6, 1, 23, 0, tzinfo=TzInfo(UTC)),\n",
       "                                'trade_count': 1200.0,\n",
       "                                'volume': 60760.0,\n",
       "                                'vwap': 180.569089}]}}"
      ]
     },
     "execution_count": 89,
     "metadata": {},
     "output_type": "execute_result"
    }
   ],
   "source": [
    "bars"
   ]
  },
  {
   "cell_type": "code",
   "execution_count": null,
   "metadata": {},
   "outputs": [],
   "source": [
    "\n",
    "if __name__== '__main__':\n",
    "    fire.Fire(download_ohlc_data_from_alpaca)"
   ]
  }
 ],
 "metadata": {
  "kernelspec": {
   "display_name": "src-0mSMF-uR-py3.10",
   "language": "python",
   "name": "python3"
  },
  "language_info": {
   "codemirror_mode": {
    "name": "ipython",
    "version": 3
   },
   "file_extension": ".py",
   "mimetype": "text/x-python",
   "name": "python",
   "nbconvert_exporter": "python",
   "pygments_lexer": "ipython3",
   "version": "3.10.13"
  }
 },
 "nbformat": 4,
 "nbformat_minor": 2
}
